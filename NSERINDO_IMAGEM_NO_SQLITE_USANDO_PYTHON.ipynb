{
  "nbformat": 4,
  "nbformat_minor": 0,
  "metadata": {
    "colab": {
      "provenance": [],
      "mount_file_id": "12Z0jGTE8fWnxXpzoaAoz9gAmv5DnCeL7",
      "authorship_tag": "ABX9TyOsPUqmIWjuQHr3IGWCRAlm",
      "include_colab_link": true
    },
    "kernelspec": {
      "name": "python3",
      "display_name": "Python 3"
    },
    "language_info": {
      "name": "python"
    }
  },
  "cells": [
    {
      "cell_type": "markdown",
      "metadata": {
        "id": "view-in-github",
        "colab_type": "text"
      },
      "source": [
        "<a href=\"https://colab.research.google.com/github/LuisSilvaS/SQLite/blob/main/NSERINDO_IMAGEM_NO_SQLITE_USANDO_PYTHON.ipynb\" target=\"_parent\"><img src=\"https://colab.research.google.com/assets/colab-badge.svg\" alt=\"Open In Colab\"/></a>"
      ]
    },
    {
      "cell_type": "code",
      "source": [
        "import sqlite3\n",
        "import pandas as pd\n",
        "import os"
      ],
      "metadata": {
        "id": "1nG-aTYXdACX"
      },
      "execution_count": 9,
      "outputs": []
    },
    {
      "cell_type": "code",
      "execution_count": 17,
      "metadata": {
        "colab": {
          "base_uri": "https://localhost:8080/"
        },
        "id": "_hjPyZQLbqDU",
        "outputId": "53245afb-fbfe-422e-8b49-cde0057a68d9"
      },
      "outputs": [
        {
          "output_type": "stream",
          "name": "stdout",
          "text": [
            "Connected to SQLite\n",
            "Failed to insert blob data into sqlite table no such table: Student\n",
            "the sqlite connection is closed\n"
          ]
        }
      ],
      "source": [
        "\n",
        "  \n",
        "# Function for Convert Binary Data \n",
        "# to Human Readable Format\n",
        "\n",
        "\n",
        "\n",
        "def convertToBinaryData(filename):\n",
        "      \n",
        "    # Convert binary format to images \n",
        "    # or files data\n",
        "    with open(filename, 'rb') as file:\n",
        "        blobData = file.read()\n",
        "    return blobData\n",
        "  \n",
        "  \n",
        "def insertBLOB(name, photo):\n",
        "    try:\n",
        "          \n",
        "        # Using connect method for establishing\n",
        "        # a connection\n",
        "        sqliteConnection = sqlite3.connect('SQLite_Retrieving_data.db')\n",
        "        cursor = sqliteConnection.cursor()\n",
        "        print(\"Connected to SQLite\")\n",
        "          \n",
        "        # insert query\n",
        "        sqlite_insert_blob_query = \"\"\" INSERT INTO Student\n",
        "                                  (name, img) VALUES (?, ?)\"\"\"\n",
        "          \n",
        "        # Converting human readable file into \n",
        "        # binary data\n",
        "        empPhoto = convertToBinaryData(photo)\n",
        "          \n",
        "        # Convert data into tuple format\n",
        "        data_tuple = (name, empPhoto)\n",
        "          \n",
        "        # using cursor object executing our query\n",
        "        cursor.execute(sqlite_insert_blob_query, data_tuple)\n",
        "        sqliteConnection.commit()\n",
        "        print(\"Image and file inserted successfully as a BLOB into a table\")\n",
        "        cursor.close()\n",
        "  \n",
        "    except sqlite3.Error as error:\n",
        "        print(\"Failed to insert blob data into sqlite table\", error)\n",
        "      \n",
        "    finally:\n",
        "        if sqliteConnection:\n",
        "            sqliteConnection.close()\n",
        "            print(\"the sqlite connection is closed\")\n",
        "  \n",
        "insertBLOB(\"marcelo\", \"/content.jpg\")\n"
      ]
    }
  ]
}